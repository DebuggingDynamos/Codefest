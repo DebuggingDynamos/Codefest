{
 "cells": [
  {
   "cell_type": "code",
   "execution_count": 1,
   "metadata": {},
   "outputs": [],
   "source": [
    "import re\n",
    "import spacy\n",
    "\n",
    "# No olvidar instalar el modelo de spacy:\n",
    "# python -m spacy download es_core_news_lg"
   ]
  },
  {
   "cell_type": "code",
   "execution_count": 4,
   "metadata": {},
   "outputs": [
    {
     "name": "stdout",
     "output_type": "stream",
     "text": [
      "{'LOC': ['el Caribe']}\n"
     ]
    }
   ],
   "source": [
    "text = 'Autoridades decomisan toneladas de drogas en operativo contra el narcotráfico en el Caribe.'\n",
    "\n",
    "nlp = spacy.load(\"es_core_news_lg\")\n",
    "doc = nlp(text)\n",
    "dic = {}\n",
    "for ent in doc.ents:\n",
    "    llave = ent.label_  # PER\n",
    "    valor = ent.text  # Manuel\n",
    "    if llave not in dic:\n",
    "        dic[llave] = []\n",
    "    dic[llave].append(valor)\n",
    "\n",
    "print(dic)"
   ]
  },
  {
   "cell_type": "code",
   "execution_count": 3,
   "metadata": {},
   "outputs": [
    {
     "name": "stdout",
     "output_type": "stream",
     "text": [
      "['junio de 2021']\n"
     ]
    }
   ],
   "source": [
    "text = 'junio de 2021'\n",
    "patrones = [r'(\\d{2}[/]\\d{2}[/]\\d{4})', \n",
    "            r'/(\\d{2}[-]\\d{2}[-]\\d{4})', \n",
    "            r'/(\\d{2}[/]\\d{2}[/]\\d{2})', \n",
    "            r'/(\\d{2}[-]\\d{2}[-]\\d{2})', \n",
    "            r'(\\d{4}[/]\\d{2}[/]\\d{2})', \n",
    "            r'(\\d{4}[-]\\d{2}[-]\\d{2})', \n",
    "            r'(\\d{2} de \\w+ de \\d{4})', \n",
    "            r'(\\d{2} de \\w+)',\n",
    "            r'(\\w+ de \\d{4})',]\n",
    "\n",
    "text = text.lower()\n",
    "rt = []\n",
    "for i in patrones:\n",
    "    x = re.findall(i, text)\n",
    "    for j in x:\n",
    "        text = text.replace(j, \"\")\n",
    "    rt += x\n",
    "    \n",
    "print(rt)"
   ]
  },
  {
   "cell_type": "code",
   "execution_count": null,
   "metadata": {},
   "outputs": [],
   "source": []
  }
 ],
 "metadata": {
  "kernelspec": {
   "display_name": "Python 3",
   "language": "python",
   "name": "python3"
  },
  "language_info": {
   "codemirror_mode": {
    "name": "ipython",
    "version": 3
   },
   "file_extension": ".py",
   "mimetype": "text/x-python",
   "name": "python",
   "nbconvert_exporter": "python",
   "pygments_lexer": "ipython3",
   "version": "3.10.7"
  },
  "orig_nbformat": 4
 },
 "nbformat": 4,
 "nbformat_minor": 2
}
